{
 "cells": [
  {
   "cell_type": "code",
   "execution_count": 93,
   "metadata": {},
   "outputs": [],
   "source": [
    "list_a = [8, 10, 12, 44, 63, 66]\n",
    "list_b = [2, 3, 20, 106, 144]\n",
    "\n",
    "import random\n",
    "big_a = [random.randint(1, 10**8) for _ in range(0, 10**6)]\n",
    "big_b = [random.randint(1, 10**8) for _ in range(0, 10**6)]"
   ]
  },
  {
   "cell_type": "code",
   "execution_count": 94,
   "metadata": {},
   "outputs": [
    {
     "name": "stdout",
     "output_type": "stream",
     "text": [
      "[2, 3, 8, 10, 12, 20, 44, 63, 66, 106, 144]\n"
     ]
    }
   ],
   "source": [
    "def solution1(a, b):\n",
    "    lst = a + b\n",
    "    return sorted(lst)\n",
    "print(solution1(list_a, list_b))"
   ]
  },
  {
   "cell_type": "code",
   "execution_count": 95,
   "metadata": {},
   "outputs": [
    {
     "name": "stdout",
     "output_type": "stream",
     "text": [
      "[2, 3, 8, 10, 12, 20, 44, 63, 66, 106, 144]\n"
     ]
    }
   ],
   "source": [
    "def solution2(a, b):\n",
    "    lst = a[:]\n",
    "    lst.extend(b)\n",
    "    return sorted(lst)\n",
    "print(solution2(list_a, list_b))"
   ]
  },
  {
   "cell_type": "code",
   "execution_count": 96,
   "metadata": {},
   "outputs": [
    {
     "name": "stdout",
     "output_type": "stream",
     "text": [
      "[2, 3, 8, 10, 12, 20, 44, 63, 66, 106, 144]\n"
     ]
    }
   ],
   "source": [
    "from heapq import merge\n",
    "def solution3(a, b):\n",
    "    return merge(a, b)\n",
    "print(solution2(list_a, list_b))"
   ]
  },
  {
   "cell_type": "code",
   "execution_count": 100,
   "metadata": {},
   "outputs": [
    {
     "name": "stdout",
     "output_type": "stream",
     "text": [
      "649 ns ± 18.6 ns per loop (mean ± std. dev. of 7 runs, 1000000 loops each)\n"
     ]
    }
   ],
   "source": [
    "%timeit solution1(list_a, list_b)"
   ]
  },
  {
   "cell_type": "code",
   "execution_count": 101,
   "metadata": {},
   "outputs": [
    {
     "name": "stdout",
     "output_type": "stream",
     "text": [
      "860 ns ± 44.9 ns per loop (mean ± std. dev. of 7 runs, 1000000 loops each)\n"
     ]
    }
   ],
   "source": [
    "%timeit solution2(list_a, list_b)"
   ]
  },
  {
   "cell_type": "code",
   "execution_count": 102,
   "metadata": {},
   "outputs": [
    {
     "name": "stdout",
     "output_type": "stream",
     "text": [
      "576 ns ± 5.59 ns per loop (mean ± std. dev. of 7 runs, 1000000 loops each)\n"
     ]
    }
   ],
   "source": [
    "%timeit solution3(list_a, list_b)"
   ]
  },
  {
   "cell_type": "code",
   "execution_count": 103,
   "metadata": {},
   "outputs": [
    {
     "name": "stdout",
     "output_type": "stream",
     "text": [
      "1.44 s ± 22.4 ms per loop (mean ± std. dev. of 7 runs, 1 loop each)\n"
     ]
    }
   ],
   "source": [
    "%timeit solution1(big_a, big_b)"
   ]
  },
  {
   "cell_type": "code",
   "execution_count": 104,
   "metadata": {},
   "outputs": [
    {
     "name": "stdout",
     "output_type": "stream",
     "text": [
      "1.47 s ± 60.2 ms per loop (mean ± std. dev. of 7 runs, 1 loop each)\n"
     ]
    }
   ],
   "source": [
    "%timeit solution2(big_a, big_b)"
   ]
  },
  {
   "cell_type": "code",
   "execution_count": 112,
   "metadata": {},
   "outputs": [
    {
     "name": "stdout",
     "output_type": "stream",
     "text": [
      "572 ns ± 11.1 ns per loop (mean ± std. dev. of 7 runs, 1000000 loops each)\n"
     ]
    }
   ],
   "source": [
    "%timeit solution3(big_a, big_b)"
   ]
  },
  {
   "cell_type": "code",
   "execution_count": 106,
   "metadata": {},
   "outputs": [
    {
     "name": "stdout",
     "output_type": "stream",
     "text": [
      "[2, 3, 8, 10, 12, 20, 44, 63, 66, 106, 144]\n"
     ]
    }
   ],
   "source": [
    "def solution4(a, b):\n",
    "    solution = [0] * (len(a)-1 + len(b)-1)\n",
    "    i, j, k = 0, 0, 0\n",
    "    \n",
    "    while i < len(a) and j < len(b):\n",
    "        if a[i] < b[j]:\n",
    "            solution[k] = a[i]\n",
    "            i += 1\n",
    "        else:\n",
    "            solution[k] = b[j]\n",
    "            j += 1\n",
    "        k += 1\n",
    "\n",
    "    if i < len(a):\n",
    "        solution.extend(a[i:])\n",
    "    if j < len(b):\n",
    "        solution.extend(b[j:])\n",
    "    return solution\n",
    "        \n",
    "print(solution4(list_a, list_b))"
   ]
  },
  {
   "cell_type": "code",
   "execution_count": 107,
   "metadata": {},
   "outputs": [
    {
     "name": "stdout",
     "output_type": "stream",
     "text": [
      "5.21 µs ± 36.6 ns per loop (mean ± std. dev. of 7 runs, 100000 loops each)\n"
     ]
    }
   ],
   "source": [
    "%timeit solution4(list_a, list_b)"
   ]
  },
  {
   "cell_type": "code",
   "execution_count": 108,
   "metadata": {},
   "outputs": [
    {
     "name": "stdout",
     "output_type": "stream",
     "text": [
      "873 ms ± 22.6 ms per loop (mean ± std. dev. of 7 runs, 1 loop each)\n"
     ]
    }
   ],
   "source": [
    "%timeit solution4(big_a, big_b)"
   ]
  },
  {
   "cell_type": "code",
   "execution_count": 109,
   "metadata": {},
   "outputs": [
    {
     "name": "stdout",
     "output_type": "stream",
     "text": [
      "[2, 3, 8, 10, 12, 20, 44, 63, 66, 106, 144]\n"
     ]
    }
   ],
   "source": [
    "def solution5(a, b):\n",
    "    if a[-1] > b[-1]:\n",
    "        a, b = b, a\n",
    "\n",
    "    iterator = iter(b)\n",
    "    y = iterator.__next__()\n",
    "    solution = []\n",
    "\n",
    "    for x in a:\n",
    "        while y < x:\n",
    "            solution.append(y)\n",
    "            y = iterator.__next__()\n",
    "        solution.append(x)\n",
    "\n",
    "    solution.append(y)\n",
    "    solution.extend(iterator)\n",
    "    return solution\n",
    "print(solution5(list_a, list_b))"
   ]
  },
  {
   "cell_type": "code",
   "execution_count": 110,
   "metadata": {},
   "outputs": [
    {
     "name": "stdout",
     "output_type": "stream",
     "text": [
      "2.47 µs ± 59.7 ns per loop (mean ± std. dev. of 7 runs, 100000 loops each)\n"
     ]
    }
   ],
   "source": [
    "%timeit solution5(list_a, list_b)"
   ]
  },
  {
   "cell_type": "code",
   "execution_count": 111,
   "metadata": {},
   "outputs": [
    {
     "name": "stdout",
     "output_type": "stream",
     "text": [
      "268 ms ± 8.8 ms per loop (mean ± std. dev. of 7 runs, 1 loop each)\n"
     ]
    }
   ],
   "source": [
    "%timeit solution5(big_a, big_b)"
   ]
  },
  {
   "cell_type": "code",
   "execution_count": null,
   "metadata": {},
   "outputs": [],
   "source": []
  }
 ],
 "metadata": {
  "kernelspec": {
   "display_name": "Python 3",
   "language": "python",
   "name": "python3"
  },
  "language_info": {
   "codemirror_mode": {
    "name": "ipython",
    "version": 3
   },
   "file_extension": ".py",
   "mimetype": "text/x-python",
   "name": "python",
   "nbconvert_exporter": "python",
   "pygments_lexer": "ipython3",
   "version": "3.7.1"
  }
 },
 "nbformat": 4,
 "nbformat_minor": 2
}
